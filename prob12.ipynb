{
 "cells": [
  {
   "cell_type": "code",
   "execution_count": 1,
   "metadata": {},
   "outputs": [],
   "source": [
    "from helpers import prime_factors, prime_sieve\n",
    "from collections import defaultdict"
   ]
  },
  {
   "cell_type": "code",
   "execution_count": 2,
   "metadata": {},
   "outputs": [],
   "source": [
    "primes = list(prime_sieve(10000))\n",
    "len(primes)"
   ]
  },
  {
   "cell_type": "code",
   "execution_count": 3,
   "metadata": {},
   "outputs": [],
   "source": [
    "def num_divisors(num, primes):\n",
    "    counts = defaultdict(int)\n",
    "    for p in  primes:\n",
    "        if p > num:\n",
    "            break\n",
    "        while num % p == 0:\n",
    "            num = num // p\n",
    "            counts[p] += 1\n",
    "\n",
    "    num = 1\n",
    "    for p, a in counts.items():\n",
    "        num *= (a + 1)\n",
    "\n",
    "    return num"
   ]
  },
  {
   "cell_type": "code",
   "execution_count": 4,
   "metadata": {},
   "outputs": [],
   "source": [
    "num_divisors(28, primes)"
   ]
  },
  {
   "cell_type": "code",
   "execution_count": 5,
   "metadata": {},
   "outputs": [],
   "source": [
    "def triangle_numbers():\n",
    "    n = 1\n",
    "    while True:\n",
    "        yield (n*(n + 1)) // 2\n",
    "        n += 1"
   ]
  },
  {
   "cell_type": "code",
   "execution_count": 6,
   "metadata": {},
   "outputs": [
    {
     "name": "stdout",
     "output_type": "stream",
     "text": [
      "76576500 576\n"
     ]
    }
   ],
   "source": [
    "limit = 500\n",
    "for n, num in map(lambda tri: (tri, num_divisors(tri, primes)), triangle_numbers()):\n",
    "    if num > limit:\n",
    "        print(n, num)\n",
    "        break"
   ]
  }
 ],
 "metadata": {
  "kernelspec": {
   "display_name": "Python 3",
   "language": "python",
   "name": "python3"
  },
  "language_info": {
   "codemirror_mode": {
    "name": "ipython",
    "version": 3
   },
   "file_extension": ".py",
   "mimetype": "text/x-python",
   "name": "python",
   "nbconvert_exporter": "python",
   "pygments_lexer": "ipython3",
   "version": "3.7.2"
  }
 },
 "nbformat": 4,
 "nbformat_minor": 2
}
