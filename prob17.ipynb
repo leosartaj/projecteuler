{
 "cells": [
  {
   "cell_type": "code",
   "execution_count": 1,
   "metadata": {},
   "outputs": [],
   "source": [
    "import string"
   ]
  },
  {
   "cell_type": "code",
   "execution_count": 2,
   "metadata": {},
   "outputs": [],
   "source": [
    "def numeric_to_english(num):\n",
    "    mapper = {\n",
    "        1: 'one',\n",
    "        2: 'two',\n",
    "        3: 'three',\n",
    "        4: 'four',\n",
    "        5: 'five',\n",
    "        6: 'six',\n",
    "        7: 'seven',\n",
    "        8: 'eight',\n",
    "        9: 'nine',\n",
    "        10: 'ten',\n",
    "        11: 'eleven',\n",
    "        12: 'twelve',\n",
    "        13: 'thirteen',\n",
    "        14: 'fourteen',\n",
    "        15: 'fifteen',\n",
    "        16: 'sixteen',\n",
    "        17: 'seventeen',\n",
    "        18: 'eighteen',\n",
    "        19: 'nineteen',\n",
    "        20: 'twenty',\n",
    "        30: 'thirty',\n",
    "        40: 'forty',\n",
    "        50: 'fifty',\n",
    "        60: 'sixty',\n",
    "        70: 'seventy',\n",
    "        80: 'eighty',\n",
    "        90: 'ninety',\n",
    "        100: 'hundred',\n",
    "    }\n",
    "    if num <= 20:\n",
    "        text = mapper[num]\n",
    "    elif num > 20 and num < 100:\n",
    "        tens = (num // 10) * 10\n",
    "        tens_text = mapper[tens]\n",
    "        units = num % 10\n",
    "        units_text = ''\n",
    "        if units != 0:\n",
    "            units_text = mapper[units]\n",
    "        text = '{} {}'.format(tens_text, units_text)\n",
    "    elif num >= 100 and num < 1000:\n",
    "        units = num % 10\n",
    "        tens = (num // 10) % 10\n",
    "        hun = num // 100\n",
    "        hun_text = mapper[hun]\n",
    "        if units != 0 or tens != 0:\n",
    "            conn = 'and'\n",
    "            rest_text = numeric_to_english(num % 100)\n",
    "        else:\n",
    "            conn = ''\n",
    "            rest_text = ''\n",
    "        text = '{} hundred {} {}'.format(hun_text, conn, rest_text)\n",
    "    elif num == 1000:\n",
    "        text = 'one thousand'\n",
    "    \n",
    "    return text.strip(' ')"
   ]
  },
  {
   "cell_type": "code",
   "execution_count": 3,
   "metadata": {},
   "outputs": [],
   "source": [
    "def count_letters(text):\n",
    "    text = filter(lambda x: x in string.ascii_letters, text)\n",
    "    letters = len(list(text))\n",
    "    return letters"
   ]
  },
  {
   "cell_type": "code",
   "execution_count": 4,
   "metadata": {},
   "outputs": [
    {
     "data": {
      "text/plain": [
       "21124"
      ]
     },
     "execution_count": 4,
     "metadata": {},
     "output_type": "execute_result"
    }
   ],
   "source": [
    "ans = 0\n",
    "for num in range(1, 1001):\n",
    "    text = numeric_to_english(num)\n",
    "    ans += count_letters(text)\n",
    "ans"
   ]
  }
 ],
 "metadata": {
  "kernelspec": {
   "display_name": "Python 3",
   "language": "python",
   "name": "python3"
  },
  "language_info": {
   "codemirror_mode": {
    "name": "ipython",
    "version": 3
   },
   "file_extension": ".py",
   "mimetype": "text/x-python",
   "name": "python",
   "nbconvert_exporter": "python",
   "pygments_lexer": "ipython3",
   "version": "3.7.2"
  }
 },
 "nbformat": 4,
 "nbformat_minor": 2
}
