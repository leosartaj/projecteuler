{
 "cells": [
  {
   "cell_type": "code",
   "execution_count": 1,
   "metadata": {},
   "outputs": [],
   "source": [
    "def is_palindrome(num):\n",
    "    num = str(num)\n",
    "    return num == num[::-1]"
   ]
  },
  {
   "cell_type": "code",
   "execution_count": 6,
   "metadata": {},
   "outputs": [
    {
     "data": {
      "text/plain": [
       "(998001, 10000)"
      ]
     },
     "execution_count": 6,
     "metadata": {},
     "output_type": "execute_result"
    }
   ],
   "source": [
    "max_num = 999\n",
    "min_num = 100\n",
    "max_num**2, min_num**2"
   ]
  },
  {
   "cell_type": "code",
   "execution_count": 8,
   "metadata": {},
   "outputs": [
    {
     "data": {
      "text/plain": [
       "(998001, 100000)"
      ]
     },
     "execution_count": 8,
     "metadata": {},
     "output_type": "execute_result"
    }
   ],
   "source": [
    "min_lim = 100000 # since largest palindrom, considering only 6 digit numbers\n",
    "max_lim = max_num**2\n",
    "max_lim, min_lim"
   ]
  },
  {
   "cell_type": "code",
   "execution_count": 10,
   "metadata": {},
   "outputs": [],
   "source": [
    "import sympy as sy\n",
    "from sympy import symbols\n",
    "\n",
    "sy.init_printing()"
   ]
  },
  {
   "cell_type": "code",
   "execution_count": 12,
   "metadata": {},
   "outputs": [
    {
     "data": {
      "image/png": "[encoded data removed]",
      "text/latex": [
       "$$100001 a + 10010 b + 1100 c$$"
      ],
      "text/plain": [
       "100001⋅a + 10010⋅b + 1100⋅c"
      ]
     },
     "execution_count": 12,
     "metadata": {},
     "output_type": "execute_result"
    }
   ],
   "source": [
    "a, b, c = symbols('a b c')\n",
    "num = 10**5*a + 10**4*b + 10**3*c + 10**2*c + 10**1*b + 1*a\n",
    "num"
   ]
  },
  {
   "cell_type": "code",
   "execution_count": 16,
   "metadata": {},
   "outputs": [
    {
     "data": {
      "image/png": "[encoded data removed]",
      "text/latex": [
       "$$11 \\left(9091 a + 910 b + 100 c\\right)$$"
      ],
      "text/plain": [
       "11⋅(9091⋅a + 910⋅b + 100⋅c)"
      ]
     },
     "execution_count": 16,
     "metadata": {},
     "output_type": "execute_result"
    }
   ],
   "source": [
    "num.factor() # one of the two numbers has to be multiple of 11"
   ]
  },
  {
   "cell_type": "code",
   "execution_count": 25,
   "metadata": {},
   "outputs": [
    {
     "data": {
      "image/png": "[encoded data removed]",
      "text/latex": [
       "$$\\left ( 913, \\quad 993, \\quad 906609\\right )$$"
      ],
      "text/plain": [
       "(913, 993, 906609)"
      ]
     },
     "execution_count": 25,
     "metadata": {},
     "output_type": "execute_result"
    }
   ],
   "source": [
    "max_p = 990\n",
    "ans_num = None\n",
    "for p in range(max_p, min_num, -11):\n",
    "    for q in filter(lambda x: x % 11 != 0, range(p, max_num + 1)):\n",
    "        num = p * q\n",
    "        if is_palindrome(num):\n",
    "            if ans_num is None or num > ans_num[-1]:\n",
    "                ans_num = (p, q, num)\n",
    "ans_num"
   ]
  }
 ],
 "metadata": {
  "kernelspec": {
   "display_name": "Python 3",
   "language": "python",
   "name": "python3"
  },
  "language_info": {
   "codemirror_mode": {
    "name": "ipython",
    "version": 3
   },
   "file_extension": ".py",
   "mimetype": "text/x-python",
   "name": "python",
   "nbconvert_exporter": "python",
   "pygments_lexer": "ipython3",
   "version": "3.7.2"
  }
 },
 "nbformat": 4,
 "nbformat_minor": 2
}
