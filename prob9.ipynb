{
 "cells": [
  {
   "cell_type": "code",
   "execution_count": 1,
   "metadata": {},
   "outputs": [],
   "source": [
    "import sympy as sy\n",
    "import numpy as np\n",
    "\n",
    "sy.init_printing()"
   ]
  },
  {
   "cell_type": "code",
   "execution_count": 2,
   "metadata": {},
   "outputs": [
    {
     "data": {
      "image/png": "[encoded data removed]",
      "text/latex": [
       "$$\\left ( a, \\quad b, \\quad c, \\quad d\\right )$$"
      ],
      "text/plain": [
       "(a, b, c, d)"
      ]
     },
     "execution_count": 2,
     "metadata": {},
     "output_type": "execute_result"
    }
   ],
   "source": [
    "a, b, c, d = sy.symbols('a b c d')\n",
    "a, b, c, d"
   ]
  },
  {
   "cell_type": "code",
   "execution_count": 3,
   "metadata": {},
   "outputs": [
    {
     "data": {
      "image/png": "[encoded data removed]",
      "text/latex": [
       "$$a^{2} + b^{2} - c^{2}$$"
      ],
      "text/plain": [
       " 2    2    2\n",
       "a  + b  - c "
      ]
     },
     "execution_count": 3,
     "metadata": {},
     "output_type": "execute_result"
    }
   ],
   "source": [
    "eq1 = a**2 + b**2 - c**2\n",
    "eq1"
   ]
  },
  {
   "cell_type": "code",
   "execution_count": 4,
   "metadata": {},
   "outputs": [
    {
     "data": {
      "image/png": "[encoded data removed]",
      "text/latex": [
       "$$a + b + c - 1000$$"
      ],
      "text/plain": [
       "a + b + c - 1000"
      ]
     },
     "execution_count": 4,
     "metadata": {},
     "output_type": "execute_result"
    }
   ],
   "source": [
    "eq2 = a + b + c - 1000\n",
    "eq2"
   ]
  },
  {
   "cell_type": "code",
   "execution_count": 5,
   "metadata": {},
   "outputs": [
    {
     "data": {
      "image/png": "[encoded data removed]",
      "text/latex": [
       "$$\\left ( a^{2} + b^{2} - c^{2}, \\quad - 2 a b - c^{2} + \\left(a + b\\right)^{2}\\right )$$"
      ],
      "text/plain": [
       "⎛ 2    2    2            2          2⎞\n",
       "⎝a  + b  - c , -2⋅a⋅b - c  + (a + b) ⎠"
      ]
     },
     "execution_count": 5,
     "metadata": {},
     "output_type": "execute_result"
    }
   ],
   "source": [
    "eq1 = (a + b)**2 - 2*a*b - c**2\n",
    "eq1.expand(), eq1"
   ]
  },
  {
   "cell_type": "code",
   "execution_count": 6,
   "metadata": {},
   "outputs": [
    {
     "data": {
      "image/png": "[encoded data removed]",
      "text/latex": [
       "$$- 2 a b + 1000 a + 1000 b - 1000 c$$"
      ],
      "text/plain": [
       "-2⋅a⋅b + 1000⋅a + 1000⋅b - 1000⋅c"
      ]
     },
     "execution_count": 6,
     "metadata": {},
     "output_type": "execute_result"
    }
   ],
   "source": [
    "eq1 = (a + b - c) * 1000 - 2*a*b\n",
    "eq1"
   ]
  },
  {
   "cell_type": "code",
   "execution_count": 7,
   "metadata": {},
   "outputs": [
    {
     "data": {
      "image/png": "[encoded data removed]",
      "text/latex": [
       "$$a b c - 500 a c - 500 b c + 500 c^{2}$$"
      ],
      "text/plain": [
       "                                 2\n",
       "a⋅b⋅c - 500⋅a⋅c - 500⋅b⋅c + 500⋅c "
      ]
     },
     "execution_count": 7,
     "metadata": {},
     "output_type": "execute_result"
    }
   ],
   "source": [
    "eq1 = (eq1 * (-c/2)).expand()\n",
    "eq1"
   ]
  },
  {
   "cell_type": "code",
   "execution_count": 8,
   "metadata": {},
   "outputs": [
    {
     "data": {
      "image/png": "[encoded data removed]",
      "text/latex": [
       "$$- 500 a c - 500 b c + 500 c^{2} + d$$"
      ],
      "text/plain": [
       "                          2    \n",
       "-500⋅a⋅c - 500⋅b⋅c + 500⋅c  + d"
      ]
     },
     "execution_count": 8,
     "metadata": {},
     "output_type": "execute_result"
    }
   ],
   "source": [
    "eq1 = eq1.subs(a*b*c, d)\n",
    "eq1"
   ]
  },
  {
   "cell_type": "code",
   "execution_count": 9,
   "metadata": {},
   "outputs": [
    {
     "data": {
      "image/png": "[encoded data removed]",
      "text/latex": [
       "$$- 500 a c - 500 b c + 500 c^{2} + d$$"
      ],
      "text/plain": [
       "                          2    \n",
       "-500⋅a⋅c - 500⋅b⋅c + 500⋅c  + d"
      ]
     },
     "execution_count": 9,
     "metadata": {},
     "output_type": "execute_result"
    }
   ],
   "source": [
    "eq1.expand()"
   ]
  },
  {
   "cell_type": "code",
   "execution_count": 10,
   "metadata": {},
   "outputs": [
    {
     "data": {
      "image/png": "[encoded data removed]",
      "text/latex": [
       "$$- 1000 c^{2} + 500000 c$$"
      ],
      "text/plain": [
       "        2           \n",
       "- 1000⋅c  + 500000⋅c"
      ]
     },
     "execution_count": 10,
     "metadata": {},
     "output_type": "execute_result"
    }
   ],
   "source": [
    "prod = 500000*c - 1000*c**2\n",
    "prod"
   ]
  },
  {
   "cell_type": "code",
   "execution_count": 11,
   "metadata": {},
   "outputs": [
    {
     "data": {
      "image/png": "[encoded data removed]",
      "text/latex": [
       "$$a + b + c - 1000$$"
      ],
      "text/plain": [
       "a + b + c - 1000"
      ]
     },
     "execution_count": 11,
     "metadata": {},
     "output_type": "execute_result"
    }
   ],
   "source": [
    "eq2"
   ]
  },
  {
   "cell_type": "code",
   "execution_count": 12,
   "metadata": {},
   "outputs": [
    {
     "name": "stdout",
     "output_type": "stream",
     "text": [
      "[200, 375, 425] 31875000\n"
     ]
    }
   ],
   "source": [
    "for c_val in range(499, 0, -1):\n",
    "    prod_val = prod.subs(c, c_val)\n",
    "    ab_val = prod_val / c_val\n",
    "    aplusb_val = 1000 - c_val\n",
    "    b_eq = eq2.subs({a: ab_val / b, c: c_val})\n",
    "    sols = np.array(list(map(lambda x: int(x), sy.solve(b_eq, b))))\n",
    "    if sum(sols) == aplusb_val:\n",
    "        numbers = [sols[0], sols[1], c_val]\n",
    "        print(numbers, prod_val)\n",
    "        break"
   ]
  },
  {
   "cell_type": "code",
   "execution_count": 13,
   "metadata": {},
   "outputs": [
    {
     "data": {
      "text/plain": [
       "1000"
      ]
     },
     "execution_count": 13,
     "metadata": {},
     "output_type": "execute_result"
    }
   ],
   "source": [
    "sum(numbers)"
   ]
  }
 ],
 "metadata": {
  "kernelspec": {
   "display_name": "Python 3",
   "language": "python",
   "name": "python3"
  },
  "language_info": {
   "codemirror_mode": {
    "name": "ipython",
    "version": 3
   },
   "file_extension": ".py",
   "mimetype": "text/x-python",
   "name": "python",
   "nbconvert_exporter": "python",
   "pygments_lexer": "ipython3",
   "version": "3.7.2"
  }
 },
 "nbformat": 4,
 "nbformat_minor": 2
}
